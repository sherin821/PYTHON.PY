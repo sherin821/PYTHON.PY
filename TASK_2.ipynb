{
  "nbformat": 4,
  "nbformat_minor": 0,
  "metadata": {
    "colab": {
      "name": "TASK 2.ipynb",
      "provenance": [],
      "include_colab_link": true
    },
    "kernelspec": {
      "name": "python3",
      "display_name": "Python 3"
    },
    "language_info": {
      "name": "python"
    }
  },
  "cells": [
    {
      "cell_type": "markdown",
      "metadata": {
        "id": "view-in-github",
        "colab_type": "text"
      },
      "source": [
        "<a href=\"https://colab.research.google.com/github/sherin821/PYTHON.PY/blob/main/TASK_2.ipynb\" target=\"_parent\"><img src=\"https://colab.research.google.com/assets/colab-badge.svg\" alt=\"Open In Colab\"/></a>"
      ]
    },
    {
      "cell_type": "markdown",
      "metadata": {
        "id": "LsC-2SdxAo8v"
      },
      "source": [
        "1 ) Consider i = 2, Write a program to convert i to float. \n",
        "---\n",
        "\n",
        "    (Expected Output = 2.0 )\n"
      ]
    },
    {
      "cell_type": "code",
      "metadata": {
        "id": "sHcMeA4vCUyp",
        "outputId": "b73b22c5-78c9-4ceb-fb8f-e00b44f50d9f",
        "colab": {
          "base_uri": "https://localhost:8080/"
        }
      },
      "source": [
        "#please enter the code below this line\n",
        "i=2\n",
        "y=float(i)\n",
        "print(y)"
      ],
      "execution_count": 1,
      "outputs": [
        {
          "output_type": "stream",
          "text": [
            "2.0\n"
          ],
          "name": "stdout"
        }
      ]
    },
    {
      "cell_type": "markdown",
      "metadata": {
        "id": "w5XXklMpCZna"
      },
      "source": [
        "2 )Consider x=\"Hello\" and y=\"World\" , then write a program to concatinate the strings to a single string and print the result.\n",
        "            \n",
        "            \n",
        "            \n",
        "            \n",
        "          ( Expected output = Hello World )"
      ]
    },
    {
      "cell_type": "code",
      "metadata": {
        "id": "T72ap7WDD1OD",
        "outputId": "5fc058ea-f4bd-48dc-cb8e-990597e3c3a3",
        "colab": {
          "base_uri": "https://localhost:8080/"
        }
      },
      "source": [
        "#please enter the code below this line\n",
        "x=\"Hello\"\n",
        "y=\"World\"\n",
        "z=x+\" \"+y\n",
        "print(z)"
      ],
      "execution_count": 2,
      "outputs": [
        {
          "output_type": "stream",
          "text": [
            "Hello World\n"
          ],
          "name": "stdout"
        }
      ]
    },
    {
      "cell_type": "markdown",
      "metadata": {
        "id": "tnp5Z3JyD7iO"
      },
      "source": [
        "3 ) Consider pi = 3.14 . print the value of pie and its type."
      ]
    },
    {
      "cell_type": "code",
      "metadata": {
        "id": "hQQkH2m4E_Ci",
        "outputId": "6bad548b-3c36-457f-eb85-5a68fa0b9800",
        "colab": {
          "base_uri": "https://localhost:8080/"
        }
      },
      "source": [
        "#please enter the code below this line\n",
        "pi=3.14\n",
        "print(pi)\n",
        "type(3.14)"
      ],
      "execution_count": 3,
      "outputs": [
        {
          "output_type": "stream",
          "text": [
            "3.14\n"
          ],
          "name": "stdout"
        },
        {
          "output_type": "execute_result",
          "data": {
            "text/plain": [
              "float"
            ]
          },
          "metadata": {
            "tags": []
          },
          "execution_count": 3
        }
      ]
    }
  ]
}